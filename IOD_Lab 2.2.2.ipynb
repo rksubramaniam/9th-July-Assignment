{
 "cells": [
  {
   "cell_type": "markdown",
   "metadata": {
    "colab_type": "text",
    "id": "XfnQYVMtJhQD"
   },
   "source": [
    "<div>\n",
    "<img src=https://www.institutedata.com/wp-content/uploads/2019/10/iod_h_tp_primary_c.svg width=\"300\">\n",
    "</div>\n"
   ]
  },
  {
   "cell_type": "markdown",
   "metadata": {
    "colab_type": "text",
    "id": "5dCt8XbjJhQG"
   },
   "source": [
    "# Lab 2.2.2 \n",
    "# *Mining Social Media with Twitter*"
   ]
  },
  {
   "cell_type": "markdown",
   "metadata": {
    "colab_type": "text",
    "id": "b5VfS9hhJhQI"
   },
   "source": [
    "## The Twitter API and Tweepy Package"
   ]
  },
  {
   "cell_type": "markdown",
   "metadata": {
    "colab_type": "text",
    "id": "lF2z-w5uJhQK"
   },
   "source": [
    "The Twitter API provides access to tweets and comments, and allows an application to post tweets to the user's timeline. \n",
    "\n",
    "Twitter requires developers to create and authenticate an app before they can use the API. As of recent policy changes, however, new developers must be approved before they can create an app. There is no indication of the waiting period for approval."
   ]
  },
  {
   "cell_type": "markdown",
   "metadata": {
    "colab_type": "text",
    "id": "M0wxJ8HNJhQM"
   },
   "source": [
    "### 1. Apply for Developer Access\n",
    "\n",
    "Go to https://blog.twitter.com/developer/en_us/topics/tools/2018/new-developer-requirements-to-protect-our-platform.html\n",
    "and read the advice.\n",
    "![image.png](attachment:image.png)"
   ]
  },
  {
   "cell_type": "markdown",
   "metadata": {
    "colab_type": "text",
    "id": "tICSKwL1JhQN"
   },
   "source": [
    "Apply at https://developer.twitter.com/en/apply-for-access.html\n",
    "![image.png](attachment:image.png)"
   ]
  },
  {
   "cell_type": "markdown",
   "metadata": {
    "colab_type": "text",
    "id": "M4-znQaaJhQP"
   },
   "source": [
    "Then go to https://developer.twitter.com/en/review every day until you see whatever comes after this: \n",
    "![image.png](attachment:image.png)"
   ]
  },
  {
   "cell_type": "markdown",
   "metadata": {
    "colab_type": "text",
    "id": "NMeZ70IZJhQR"
   },
   "source": [
    "### 2. Create Your Twitter App\n",
    "![image.png](attachment:image.png)"
   ]
  },
  {
   "cell_type": "markdown",
   "metadata": {
    "colab_type": "text",
    "id": "HpWMHz9NJhQS"
   },
   "source": [
    "### 3. Load Python Libraries"
   ]
  },
  {
   "cell_type": "code",
   "execution_count": 2,
   "metadata": {},
   "outputs": [
    {
     "name": "stdout",
     "output_type": "stream",
     "text": [
      "Collecting tweepy\n",
      "  Downloading tweepy-3.9.0-py2.py3-none-any.whl (30 kB)\n",
      "Collecting requests-oauthlib>=0.7.0\n",
      "  Downloading requests_oauthlib-1.3.0-py2.py3-none-any.whl (23 kB)\n",
      "Requirement already satisfied: six>=1.10.0 in d:\\anaconda\\lib\\site-packages (from tweepy) (1.14.0)\n",
      "Requirement already satisfied: requests[socks]>=2.11.1 in d:\\anaconda\\lib\\site-packages (from tweepy) (2.22.0)\n",
      "Collecting oauthlib>=3.0.0\n",
      "  Downloading oauthlib-3.1.0-py2.py3-none-any.whl (147 kB)\n",
      "Requirement already satisfied: chardet<3.1.0,>=3.0.2 in d:\\anaconda\\lib\\site-packages (from requests[socks]>=2.11.1->tweepy) (3.0.4)\n",
      "Requirement already satisfied: urllib3!=1.25.0,!=1.25.1,<1.26,>=1.21.1 in d:\\anaconda\\lib\\site-packages (from requests[socks]>=2.11.1->tweepy) (1.25.8)\n",
      "Requirement already satisfied: idna<2.9,>=2.5 in d:\\anaconda\\lib\\site-packages (from requests[socks]>=2.11.1->tweepy) (2.8)\n",
      "Requirement already satisfied: certifi>=2017.4.17 in d:\\anaconda\\lib\\site-packages (from requests[socks]>=2.11.1->tweepy) (2019.11.28)\n",
      "Requirement already satisfied: PySocks!=1.5.7,>=1.5.6; extra == \"socks\" in d:\\anaconda\\lib\\site-packages (from requests[socks]>=2.11.1->tweepy) (1.7.1)\n",
      "Installing collected packages: oauthlib, requests-oauthlib, tweepy\n",
      "Successfully installed oauthlib-3.1.0 requests-oauthlib-1.3.0 tweepy-3.9.0\n"
     ]
    }
   ],
   "source": [
    "!pip install tweepy"
   ]
  },
  {
   "cell_type": "code",
   "execution_count": 3,
   "metadata": {
    "colab": {},
    "colab_type": "code",
    "id": "16hb8EpNJhQU"
   },
   "outputs": [],
   "source": [
    "import tweepy\n",
    "import json\n",
    "import pprint"
   ]
  },
  {
   "cell_type": "markdown",
   "metadata": {
    "colab_type": "text",
    "id": "p7W0se6_JhQX"
   },
   "source": [
    "### 4. Authenticate from your Python script"
   ]
  },
  {
   "cell_type": "markdown",
   "metadata": {
    "colab_type": "text",
    "id": "mJfe55dVJhQY"
   },
   "source": [
    "You could assign your authentication details explicitly, as follows:"
   ]
  },
  {
   "cell_type": "code",
   "execution_count": 4,
   "metadata": {
    "colab": {},
    "colab_type": "code",
    "id": "aygW7a3eJhQZ"
   },
   "outputs": [],
   "source": [
    "my_consumer_key = ''      # your consumer key (string) goes in here\n",
    "my_consumer_secret = ''   # your consumer secret key (string) goes in here\n",
    "my_access_token = ''      # your access token (string goes in here\n",
    "access_token_secret = ''  # your access token secret (string) goes in here"
   ]
  },
  {
   "cell_type": "code",
   "execution_count": 6,
   "metadata": {},
   "outputs": [],
   "source": [
    "import json\n",
    "\n",
    "auth_twitter_json = {\n",
    "    'consumer_key': 'GS7kRxkpveBFqpey6myCwJ01d'      # your consumer key (string) goes in here\n",
    "    , 'consumer_secret': 'gGc9bnCGYQvjDY8M47foKmRSdl6FuFqmOIAOIJMn4M39rIlXUT'   # your consumer secret key (string) goes in here\n",
    "    , 'access_token': '82147042-L7wiMqxZqib6XiLdpphwskaKGKfEjZfMw4mhEdMOr'      # your access token (string goes in here\n",
    "    , 'access_token_secret': 'EZvfP55xXAmqymu3SpDL8yxVKVOe9DFYYFwfiaBbMWckW'  # your access token secret (string) goes in here\n",
    "}\n",
    "\n",
    "with open('auth_twitter.json', 'w') as outfile:  \n",
    "    json.dump(auth_twitter_json, outfile)"
   ]
  },
  {
   "cell_type": "markdown",
   "metadata": {
    "colab_type": "text",
    "id": "7LXwmSzOJhQe"
   },
   "source": [
    "A better way would be to store these details externally, so they are not displayed in the notebook:\n",
    "\n",
    "- create a file called \"auth_twitter.json\" in your \"notebooks\" directory, and save your credentials there in JSON format:\n",
    "\n",
    "`{   \"my_consumer_key\": \"your consumer key (string) goes in here\",` <br>\n",
    "&nbsp;&nbsp;&nbsp;&nbsp;&nbsp;&nbsp;&nbsp;&nbsp;` \"my_consumer_secret\": \"your consumer secret key (string) goes in here\",` <br>\n",
    "&nbsp;&nbsp;&nbsp;&nbsp;&nbsp;&nbsp;&nbsp;&nbsp;`\"your access token (string goes in here\",` <br>\n",
    "&nbsp;&nbsp;&nbsp;&nbsp;&nbsp;&nbsp;&nbsp;&nbsp;`\"my_access_token_secret\": \"your access token secret (string) goes in here\"` <br>\n",
    "`}`\n",
    "\n",
    "(Nb. Parsers are very fussy. Make sure each key:value pair has a comma after it except the last one!)  \n",
    "\n",
    "Use the following code to load the credentials:  "
   ]
  },
  {
   "cell_type": "code",
   "execution_count": 7,
   "metadata": {
    "colab": {},
    "colab_type": "code",
    "id": "kh2srKpzJhQh"
   },
   "outputs": [
    {
     "data": {
      "text/plain": [
       "'C:\\\\Users\\\\Owner\\\\Desktop\\\\Data Science labs\\\\Assignments\\\\Module 2'"
      ]
     },
     "execution_count": 7,
     "metadata": {},
     "output_type": "execute_result"
    }
   ],
   "source": [
    "pwd()  # make sure your working directory is where the file is"
   ]
  },
  {
   "cell_type": "code",
   "execution_count": 8,
   "metadata": {
    "colab": {},
    "colab_type": "code",
    "id": "uR8Vchz7JhQm"
   },
   "outputs": [],
   "source": [
    "path_auth = 'auth_twitter.json'\n",
    "auth = json.loads(open(path_auth).read())\n",
    "pp = pprint.PrettyPrinter(indent=4)\n",
    "# For debugging only:\n",
    "#pp.pprint(auth)\n",
    "\n",
    "my_consumer_key = auth['consumer_key']\n",
    "my_consumer_secret = auth['consumer_secret']\n",
    "my_access_token = auth['access_token']\n",
    "my_access_token_secret = auth['access_token_secret']"
   ]
  },
  {
   "cell_type": "markdown",
   "metadata": {
    "colab_type": "text",
    "id": "GPRmYZigJhQp"
   },
   "source": [
    "Security considerations: \n",
    "- this method only keeps your credentials invisible as long as nobody accesses this notebook while it's running on your computer \n",
    "- if you wanted another user to have access to the executable notebook without divulging your credentials you should set up an OAuth 2.0 workflow to let them obtain and apply their own API tokens when using your app\n",
    "- if you just want to share your analyses, you could use a separate script (which you don't share) to fetch the data and save it locally, then use a second notebook (with no API access) to load and analyse the locally stored data"
   ]
  },
  {
   "cell_type": "markdown",
   "metadata": {
    "colab_type": "text",
    "id": "Ln30k0pZJhQp"
   },
   "source": [
    "### 5. Exploring the API"
   ]
  },
  {
   "cell_type": "markdown",
   "metadata": {
    "colab_type": "text",
    "id": "6fsc0U1nJhQq"
   },
   "source": [
    "Here is how to connect to Twitter using the Tweepy library:"
   ]
  },
  {
   "cell_type": "code",
   "execution_count": 9,
   "metadata": {
    "colab": {},
    "colab_type": "code",
    "id": "-y_4GBx1JhQr"
   },
   "outputs": [],
   "source": [
    "auth = tweepy.OAuthHandler(my_consumer_key, my_consumer_secret)\n",
    "auth.set_access_token(my_access_token, my_access_token_secret)\n",
    "api = tweepy.API(auth)"
   ]
  },
  {
   "cell_type": "markdown",
   "metadata": {
    "colab_type": "text",
    "id": "wSKzR9LdJhQu"
   },
   "source": [
    "In the next cell, put the cursor after the '.' and hit the [tab] key to see the available members and methods in the response object:"
   ]
  },
  {
   "cell_type": "code",
   "execution_count": 10,
   "metadata": {
    "colab": {},
    "colab_type": "code",
    "id": "BfnAOR2bJhQv"
   },
   "outputs": [
    {
     "data": {
      "text/plain": [
       "{'id': 2785691284,\n",
       " 'id_str': '2785691284',\n",
       " 'name': 'NIDHU CHINU JACOB',\n",
       " 'screen_name': 'Nidhuchinu',\n",
       " 'location': 'ITALY',\n",
       " 'description': 'My youtube channel: PLEASE SUBSCRIBE\\nhttps://t.co/vpIy1M5edF',\n",
       " 'url': None,\n",
       " 'entities': {'description': {'urls': [{'url': 'https://t.co/vpIy1M5edF',\n",
       "     'expanded_url': 'https://www.youtube.com/channel/UCUSFJt3G4wOn4gg1BqeB-7Q?view_as=subscriber',\n",
       "     'display_url': 'youtube.com/channel/UCUSFJ…',\n",
       "     'indices': [37, 60]}]}},\n",
       " 'protected': False,\n",
       " 'followers_count': 7,\n",
       " 'friends_count': 135,\n",
       " 'listed_count': 0,\n",
       " 'created_at': 'Fri Sep 26 15:21:55 +0000 2014',\n",
       " 'favourites_count': 2,\n",
       " 'utc_offset': None,\n",
       " 'time_zone': None,\n",
       " 'geo_enabled': False,\n",
       " 'verified': False,\n",
       " 'statuses_count': 24,\n",
       " 'lang': None,\n",
       " 'status': {'created_at': 'Sun Sep 06 18:43:25 +0000 2020',\n",
       "  'id': 1302678809993523204,\n",
       "  'id_str': '1302678809993523204',\n",
       "  'text': 'pedicure at home | how to do pedicure at home https://t.co/BPkyXO0gjW via @YouTube',\n",
       "  'truncated': False,\n",
       "  'entities': {'hashtags': [],\n",
       "   'symbols': [],\n",
       "   'user_mentions': [{'screen_name': 'YouTube',\n",
       "     'name': 'YouTube',\n",
       "     'id': 10228272,\n",
       "     'id_str': '10228272',\n",
       "     'indices': [74, 82]}],\n",
       "   'urls': [{'url': 'https://t.co/BPkyXO0gjW',\n",
       "     'expanded_url': 'https://youtu.be/IcqtDZRhuBs',\n",
       "     'display_url': 'youtu.be/IcqtDZRhuBs',\n",
       "     'indices': [46, 69]}]},\n",
       "  'source': '<a href=\"https://mobile.twitter.com\" rel=\"nofollow\">Twitter Web App</a>',\n",
       "  'in_reply_to_status_id': None,\n",
       "  'in_reply_to_status_id_str': None,\n",
       "  'in_reply_to_user_id': None,\n",
       "  'in_reply_to_user_id_str': None,\n",
       "  'in_reply_to_screen_name': None,\n",
       "  'geo': None,\n",
       "  'coordinates': None,\n",
       "  'place': None,\n",
       "  'contributors': None,\n",
       "  'is_quote_status': False,\n",
       "  'retweet_count': 0,\n",
       "  'favorite_count': 0,\n",
       "  'favorited': False,\n",
       "  'retweeted': False,\n",
       "  'possibly_sensitive': False,\n",
       "  'lang': 'en'},\n",
       " 'contributors_enabled': False,\n",
       " 'is_translator': False,\n",
       " 'is_translation_enabled': False,\n",
       " 'profile_background_color': '000000',\n",
       " 'profile_background_image_url': 'http://abs.twimg.com/images/themes/theme1/bg.png',\n",
       " 'profile_background_image_url_https': 'https://abs.twimg.com/images/themes/theme1/bg.png',\n",
       " 'profile_background_tile': False,\n",
       " 'profile_image_url': 'http://pbs.twimg.com/profile_images/515525776725127168/4x-12JZj_normal.jpeg',\n",
       " 'profile_image_url_https': 'https://pbs.twimg.com/profile_images/515525776725127168/4x-12JZj_normal.jpeg',\n",
       " 'profile_link_color': 'DD2E44',\n",
       " 'profile_sidebar_border_color': '000000',\n",
       " 'profile_sidebar_fill_color': '000000',\n",
       " 'profile_text_color': '000000',\n",
       " 'profile_use_background_image': False,\n",
       " 'has_extended_profile': False,\n",
       " 'default_profile': False,\n",
       " 'default_profile_image': False,\n",
       " 'following': False,\n",
       " 'live_following': False,\n",
       " 'follow_request_sent': False,\n",
       " 'notifications': False,\n",
       " 'muting': False,\n",
       " 'blocking': False,\n",
       " 'blocked_by': False,\n",
       " 'translator_type': 'none'}"
      ]
     },
     "execution_count": 10,
     "metadata": {},
     "output_type": "execute_result"
    }
   ],
   "source": [
    "api.followers()[0]._json"
   ]
  },
  {
   "cell_type": "markdown",
   "metadata": {
    "colab_type": "text",
    "id": "DcJ-cc6zJhQz"
   },
   "source": [
    "Consult the Tweept and Twitter API documentation. Print a few of the response members below:"
   ]
  },
  {
   "cell_type": "code",
   "execution_count": 11,
   "metadata": {
    "colab": {},
    "colab_type": "code",
    "id": "W_IKqMAQJhQ1"
   },
   "outputs": [],
   "source": [
    "# Retrieve a Twitter user object\n",
    "obama = api.get_user('barackobama')"
   ]
  },
  {
   "cell_type": "code",
   "execution_count": 12,
   "metadata": {},
   "outputs": [
    {
     "data": {
      "text/plain": [
       "Status(_api=<tweepy.api.API object at 0x00000208B891D248>, _json={'created_at': 'Sat Sep 19 03:51:54 +0000 2020', 'id': 1307165496484208640, 'id_str': '1307165496484208640', 'text': 'Justice Ruth Bader Ginsburg fought to the end, through her cancer, with unwavering faith in our democracy and its i… https://t.co/BqOwCg0UG3', 'truncated': True, 'entities': {'hashtags': [], 'symbols': [], 'user_mentions': [], 'urls': [{'url': 'https://t.co/BqOwCg0UG3', 'expanded_url': 'https://twitter.com/i/web/status/1307165496484208640', 'display_url': 'twitter.com/i/web/status/1…', 'indices': [117, 140]}]}, 'source': '<a href=\"https://mobile.twitter.com\" rel=\"nofollow\">Twitter Web App</a>', 'in_reply_to_status_id': None, 'in_reply_to_status_id_str': None, 'in_reply_to_user_id': None, 'in_reply_to_user_id_str': None, 'in_reply_to_screen_name': None, 'geo': None, 'coordinates': None, 'place': None, 'contributors': None, 'is_quote_status': False, 'retweet_count': 19790, 'favorite_count': 89366, 'favorited': False, 'retweeted': False, 'possibly_sensitive': False, 'lang': 'en'}, created_at=datetime.datetime(2020, 9, 19, 3, 51, 54), id=1307165496484208640, id_str='1307165496484208640', text='Justice Ruth Bader Ginsburg fought to the end, through her cancer, with unwavering faith in our democracy and its i… https://t.co/BqOwCg0UG3', truncated=True, entities={'hashtags': [], 'symbols': [], 'user_mentions': [], 'urls': [{'url': 'https://t.co/BqOwCg0UG3', 'expanded_url': 'https://twitter.com/i/web/status/1307165496484208640', 'display_url': 'twitter.com/i/web/status/1…', 'indices': [117, 140]}]}, source='Twitter Web App', source_url='https://mobile.twitter.com', in_reply_to_status_id=None, in_reply_to_status_id_str=None, in_reply_to_user_id=None, in_reply_to_user_id_str=None, in_reply_to_screen_name=None, geo=None, coordinates=None, place=None, contributors=None, is_quote_status=False, retweet_count=19790, favorite_count=89366, favorited=False, retweeted=False, possibly_sensitive=False, lang='en')"
      ]
     },
     "execution_count": 12,
     "metadata": {},
     "output_type": "execute_result"
    }
   ],
   "source": [
    "obama.status"
   ]
  },
  {
   "cell_type": "markdown",
   "metadata": {
    "colab_type": "text",
    "id": "dLkdLKjLJhQ3"
   },
   "source": [
    "This will fetch recent tweets from accounts you follow:"
   ]
  },
  {
   "cell_type": "code",
   "execution_count": 13,
   "metadata": {
    "colab": {},
    "colab_type": "code",
    "id": "l9y8t3X7JhQ4"
   },
   "outputs": [
    {
     "name": "stdout",
     "output_type": "stream",
     "text": [
      "@captainshanky Thanks a lot, mate 😇\n",
      "@captainshanky Thanks man. Paji was soooo nice 👍\n",
      "This is superb. https://t.co/dQGHDlytyB\n",
      "RT @atrupar: You can’t make this stuff up\n",
      "letmesee: Samsung 500GB T5 Portable SSD $99 + Delivery (Free C&amp;C) @ Bing Lee https://t.co/10YJKcN6WQ\n",
      "New York taxi drivers brought traffic to a halt on the Brooklyn Bridge Thursday to demand Mayor Bill de Blasio help… https://t.co/APv0XxyvOl\n",
      "jonathonsunshine: Kingston 1TB A2000 M.2 NVMe SSD, $149 @ Umart https://t.co/ZTVloS46YF\n",
      "@cricketaakash Happy birthday, Aakash. Have a good one!\n",
      "Thanks Partner 😇 I’ll save this tweet for future reference...especially the last line 😂🤣 https://t.co/kzxFRmTO2l\n",
      "Liverpool agree £41m deal for Diogo Jota after landing Thiago Alcântara https://t.co/ED3Zk5HpLN\n",
      "Happy birthday to Naimur Rahman, Bangladesh's first Test captain! \n",
      "\n",
      "Making a historic Test more memorable, he also… https://t.co/8sYnimZH4S\n",
      "What can we expect from #IPL2020? Here's a primer 👇🏽\n",
      "Boost Your Super: 90% Cashback to Your Superannuation on TaxFox App @ Boost Your Super https://t.co/oxyDHYZ4Qu\n",
      "RT @SUCC1864: A stellar batting performance from Sydney Uni has put them in a great position against UNSW. \n",
      "\n",
      "Now it’s up the bowlers! \n",
      "\n",
      "Kee…\n",
      "RT @PreetBharara: Just retweeting this again\n",
      "RT @AaronBlake: Of all the quotes that will be impossible for Republicans to reconcile while backing an election-year SCOTUS nominee, this…\n",
      "This event will help bring back the smile on people's faces: Harsha Bhogle\n",
      "\n",
      "On @My11Circle presents #CricbuzzLive,… https://t.co/WRhc70X0p1\n",
      "Customers love chatbots and are more open to chat with a business with chatbots 🤖 \n",
      "\n",
      "https://t.co/F8CGBK4zr9… https://t.co/LhdneEfTnE\n",
      "Following a career which included 27 years as a Supreme Court Justice, Ruth Bader Ginsburg is today remembered for… https://t.co/K4UHwXusld\n"
     ]
    }
   ],
   "source": [
    "# Recent tweets from accounts you follow:\n",
    "tweets = api.home_timeline()\n",
    "for tweet in tweets:\n",
    "    print(tweet.text)"
   ]
  },
  {
   "cell_type": "markdown",
   "metadata": {
    "colab_type": "text",
    "id": "k2NpPlOIJhQ6"
   },
   "source": [
    "The request to see your own recent tweets is similar, but uses the `user_timeline` endpoint. Try this below:"
   ]
  },
  {
   "cell_type": "code",
   "execution_count": 14,
   "metadata": {
    "colab": {},
    "colab_type": "code",
    "id": "QMlhdx5NJhQ6"
   },
   "outputs": [
    {
     "name": "stdout",
     "output_type": "stream",
     "text": [
      "@robelinda2 Video?\n",
      "I thought MU fans are most irritating and then I met Liverpool fans.\n",
      "RT @nameshiv: OMG my brother in law, the gift that never stops giving, was tired of being sent to get rice every day so he decided buy in b…\n",
      "https://t.co/sDnK16kCAF\n",
      "Hungry? Get A$10 off your first Uber Eats order of A$20 or more. Terms apply. Use my code at checkout: eats-npwhf   https://t.co/D207pi0XJ5\n",
      "https://t.co/A77PVdYmzN\n",
      "Devastating. https://t.co/7AfehD8zTn\n",
      "RT @BarackObama: As Michelle said, we’ve got to do everything we can to elect @JoeBiden and @KamalaHarris. So make sure you have a plan to…\n",
      "RT @MichelleObama: If we want to end the chaos and division—and keep alive the possibility of progress on the issues we hold dear—we’ve got…\n",
      "@cricketingview Needed to be Sort by avg_score\n",
      "@ovshake42 Yeah. Journalists can start with CSK. Most influential captain of India did not know what's happening in… https://t.co/TBjlIH9i8W\n",
      "What an incredible career @msdhoni had! \n",
      "\n",
      "ODI WC. T20 WC. Champions Trophy. 10,000 Runs ODI runs as a keeper!\n",
      "\n",
      "Legend. Adios! #DhoniRetires\n",
      "@ovshake42 @wildgoddamn @Mittermaniac *Without Any Drama*\n",
      "@ElawReads Lord of The Rings.\n",
      "@AzadMajumder He'll post again something similar next Eid.\n",
      "@longliveyakuza @avinashjain @theSarooperman @STUPIDREACTIONS @SrBachchan @TheSumitTyagi So, he tweets only once day? Interesting!\n",
      "@longliveyakuza @avinashjain @theSarooperman @STUPIDREACTIONS @SrBachchan @TheSumitTyagi How does the calculation work?\n",
      "@jake_roberson https://t.co/TMw8XIiaON\n",
      "@hganjoo153 @Shahriar42 Shahriar Nafees.\n",
      "@moonsightingau https://t.co/7hPAWhBAhO\n"
     ]
    }
   ],
   "source": [
    "#ANSWER:\n",
    "# Your recent tweets:\n",
    "tweets = api.user_timeline()\n",
    "for tweet in tweets:\n",
    "    print(tweet.text)"
   ]
  },
  {
   "cell_type": "markdown",
   "metadata": {
    "colab_type": "text",
    "id": "qY7oM-lJJhQ8"
   },
   "source": [
    "Now, instead of printing the text of each tweet, print the `created_at` and `id_str` methods:"
   ]
  },
  {
   "cell_type": "code",
   "execution_count": 15,
   "metadata": {
    "colab": {},
    "colab_type": "code",
    "id": "aUOlNdG8JhQ9"
   },
   "outputs": [
    {
     "name": "stdout",
     "output_type": "stream",
     "text": [
      "2020-09-16 01:27:11\n",
      "@robelinda2 Video?\n",
      "2020-09-12 08:09:28\n",
      "I thought MU fans are most irritating and then I met Liverpool fans.\n",
      "2020-09-04 11:35:57\n",
      "RT @nameshiv: OMG my brother in law, the gift that never stops giving, was tired of being sent to get rice every day so he decided buy in b…\n",
      "2020-09-02 05:45:06\n",
      "https://t.co/sDnK16kCAF\n",
      "2020-08-31 08:09:18\n",
      "Hungry? Get A$10 off your first Uber Eats order of A$20 or more. Terms apply. Use my code at checkout: eats-npwhf   https://t.co/D207pi0XJ5\n",
      "2020-08-31 07:44:54\n",
      "https://t.co/A77PVdYmzN\n",
      "2020-08-29 03:52:33\n",
      "Devastating. https://t.co/7AfehD8zTn\n",
      "2020-08-18 03:55:14\n",
      "RT @BarackObama: As Michelle said, we’ve got to do everything we can to elect @JoeBiden and @KamalaHarris. So make sure you have a plan to…\n",
      "2020-08-18 03:55:08\n",
      "RT @MichelleObama: If we want to end the chaos and division—and keep alive the possibility of progress on the issues we hold dear—we’ve got…\n",
      "2020-08-18 03:53:07\n",
      "@cricketingview Needed to be Sort by avg_score\n",
      "2020-08-16 09:05:13\n",
      "@ovshake42 Yeah. Journalists can start with CSK. Most influential captain of India did not know what's happening in… https://t.co/TBjlIH9i8W\n",
      "2020-08-15 20:34:05\n",
      "What an incredible career @msdhoni had! \n",
      "\n",
      "ODI WC. T20 WC. Champions Trophy. 10,000 Runs ODI runs as a keeper!\n",
      "\n",
      "Legend. Adios! #DhoniRetires\n",
      "2020-08-11 10:12:07\n",
      "@ovshake42 @wildgoddamn @Mittermaniac *Without Any Drama*\n",
      "2020-08-01 13:25:39\n",
      "@ElawReads Lord of The Rings.\n",
      "2020-08-01 13:22:38\n",
      "@AzadMajumder He'll post again something similar next Eid.\n",
      "2020-07-31 09:28:41\n",
      "@longliveyakuza @avinashjain @theSarooperman @STUPIDREACTIONS @SrBachchan @TheSumitTyagi So, he tweets only once day? Interesting!\n",
      "2020-07-31 09:01:53\n",
      "@longliveyakuza @avinashjain @theSarooperman @STUPIDREACTIONS @SrBachchan @TheSumitTyagi How does the calculation work?\n",
      "2020-07-23 20:46:18\n",
      "@jake_roberson https://t.co/TMw8XIiaON\n",
      "2020-07-23 20:39:46\n",
      "@hganjoo153 @Shahriar42 Shahriar Nafees.\n",
      "2020-07-21 08:42:39\n",
      "@moonsightingau https://t.co/7hPAWhBAhO\n"
     ]
    }
   ],
   "source": [
    "#ANSWER:\n",
    "# tweets header info\n",
    "tweets = api.user_timeline()\n",
    "for tweet in tweets:\n",
    "    print(tweet.created_at)\n",
    "#     print(tweet.id_str)\n",
    "    print(tweet.text)"
   ]
  },
  {
   "cell_type": "code",
   "execution_count": 16,
   "metadata": {},
   "outputs": [],
   "source": [
    "tweet_list = []\n",
    "for tweet in tweets:\n",
    "    tweet_list.append(tweet._json)"
   ]
  },
  {
   "cell_type": "code",
   "execution_count": 17,
   "metadata": {},
   "outputs": [],
   "source": [
    "import pandas as pd\n",
    "import matplotlib.pyplot as plt"
   ]
  },
  {
   "cell_type": "code",
   "execution_count": 18,
   "metadata": {},
   "outputs": [],
   "source": [
    "df = pd.DataFrame(tweet_list)"
   ]
  },
  {
   "cell_type": "code",
   "execution_count": 19,
   "metadata": {},
   "outputs": [],
   "source": [
    "df['created_at'] = pd.to_datetime(df['created_at'])\n",
    "df.set_index('created_at', inplace=True)"
   ]
  },
  {
   "cell_type": "code",
   "execution_count": 20,
   "metadata": {},
   "outputs": [
    {
     "data": {
      "text/html": [
       "<div>\n",
       "<style scoped>\n",
       "    .dataframe tbody tr th:only-of-type {\n",
       "        vertical-align: middle;\n",
       "    }\n",
       "\n",
       "    .dataframe tbody tr th {\n",
       "        vertical-align: top;\n",
       "    }\n",
       "\n",
       "    .dataframe thead th {\n",
       "        text-align: right;\n",
       "    }\n",
       "</style>\n",
       "<table border=\"1\" class=\"dataframe\">\n",
       "  <thead>\n",
       "    <tr style=\"text-align: right;\">\n",
       "      <th></th>\n",
       "      <th>id</th>\n",
       "      <th>id_str</th>\n",
       "      <th>text</th>\n",
       "      <th>truncated</th>\n",
       "      <th>entities</th>\n",
       "      <th>source</th>\n",
       "      <th>in_reply_to_status_id</th>\n",
       "      <th>in_reply_to_status_id_str</th>\n",
       "      <th>in_reply_to_user_id</th>\n",
       "      <th>in_reply_to_user_id_str</th>\n",
       "      <th>...</th>\n",
       "      <th>favorite_count</th>\n",
       "      <th>favorited</th>\n",
       "      <th>retweeted</th>\n",
       "      <th>lang</th>\n",
       "      <th>retweeted_status</th>\n",
       "      <th>extended_entities</th>\n",
       "      <th>possibly_sensitive</th>\n",
       "      <th>quoted_status_id</th>\n",
       "      <th>quoted_status_id_str</th>\n",
       "      <th>quoted_status</th>\n",
       "    </tr>\n",
       "    <tr>\n",
       "      <th>created_at</th>\n",
       "      <th></th>\n",
       "      <th></th>\n",
       "      <th></th>\n",
       "      <th></th>\n",
       "      <th></th>\n",
       "      <th></th>\n",
       "      <th></th>\n",
       "      <th></th>\n",
       "      <th></th>\n",
       "      <th></th>\n",
       "      <th></th>\n",
       "      <th></th>\n",
       "      <th></th>\n",
       "      <th></th>\n",
       "      <th></th>\n",
       "      <th></th>\n",
       "      <th></th>\n",
       "      <th></th>\n",
       "      <th></th>\n",
       "      <th></th>\n",
       "      <th></th>\n",
       "    </tr>\n",
       "  </thead>\n",
       "  <tbody>\n",
       "    <tr>\n",
       "      <th>2020-09-16 01:27:11+00:00</th>\n",
       "      <td>1306041910411190272</td>\n",
       "      <td>1306041910411190272</td>\n",
       "      <td>@robelinda2 Video?</td>\n",
       "      <td>False</td>\n",
       "      <td>{'hashtags': [], 'symbols': [], 'user_mentions...</td>\n",
       "      <td>&lt;a href=\"http://twitter.com/download/android\" ...</td>\n",
       "      <td>1.305848e+18</td>\n",
       "      <td>1305847879068561408</td>\n",
       "      <td>35399625.0</td>\n",
       "      <td>35399625</td>\n",
       "      <td>...</td>\n",
       "      <td>0</td>\n",
       "      <td>False</td>\n",
       "      <td>False</td>\n",
       "      <td>en</td>\n",
       "      <td>NaN</td>\n",
       "      <td>NaN</td>\n",
       "      <td>NaN</td>\n",
       "      <td>NaN</td>\n",
       "      <td>NaN</td>\n",
       "      <td>NaN</td>\n",
       "    </tr>\n",
       "    <tr>\n",
       "      <th>2020-09-12 08:09:28+00:00</th>\n",
       "      <td>1304693596830838784</td>\n",
       "      <td>1304693596830838784</td>\n",
       "      <td>I thought MU fans are most irritating and then...</td>\n",
       "      <td>False</td>\n",
       "      <td>{'hashtags': [], 'symbols': [], 'user_mentions...</td>\n",
       "      <td>&lt;a href=\"http://twitter.com/download/android\" ...</td>\n",
       "      <td>NaN</td>\n",
       "      <td>None</td>\n",
       "      <td>NaN</td>\n",
       "      <td>None</td>\n",
       "      <td>...</td>\n",
       "      <td>0</td>\n",
       "      <td>False</td>\n",
       "      <td>False</td>\n",
       "      <td>en</td>\n",
       "      <td>NaN</td>\n",
       "      <td>NaN</td>\n",
       "      <td>NaN</td>\n",
       "      <td>NaN</td>\n",
       "      <td>NaN</td>\n",
       "      <td>NaN</td>\n",
       "    </tr>\n",
       "    <tr>\n",
       "      <th>2020-09-04 11:35:57+00:00</th>\n",
       "      <td>1301846458316988417</td>\n",
       "      <td>1301846458316988417</td>\n",
       "      <td>RT @nameshiv: OMG my brother in law, the gift ...</td>\n",
       "      <td>False</td>\n",
       "      <td>{'hashtags': [], 'symbols': [], 'user_mentions...</td>\n",
       "      <td>&lt;a href=\"http://twitter.com/download/android\" ...</td>\n",
       "      <td>NaN</td>\n",
       "      <td>None</td>\n",
       "      <td>NaN</td>\n",
       "      <td>None</td>\n",
       "      <td>...</td>\n",
       "      <td>0</td>\n",
       "      <td>False</td>\n",
       "      <td>True</td>\n",
       "      <td>en</td>\n",
       "      <td>{'created_at': 'Thu Sep 03 14:06:04 +0000 2020...</td>\n",
       "      <td>NaN</td>\n",
       "      <td>NaN</td>\n",
       "      <td>NaN</td>\n",
       "      <td>NaN</td>\n",
       "      <td>NaN</td>\n",
       "    </tr>\n",
       "    <tr>\n",
       "      <th>2020-09-02 05:45:06+00:00</th>\n",
       "      <td>1301033387314933760</td>\n",
       "      <td>1301033387314933760</td>\n",
       "      <td>https://t.co/sDnK16kCAF</td>\n",
       "      <td>False</td>\n",
       "      <td>{'hashtags': [], 'symbols': [], 'user_mentions...</td>\n",
       "      <td>&lt;a href=\"http://twitter.com/download/android\" ...</td>\n",
       "      <td>NaN</td>\n",
       "      <td>None</td>\n",
       "      <td>NaN</td>\n",
       "      <td>None</td>\n",
       "      <td>...</td>\n",
       "      <td>0</td>\n",
       "      <td>False</td>\n",
       "      <td>False</td>\n",
       "      <td>und</td>\n",
       "      <td>NaN</td>\n",
       "      <td>{'media': [{'id': 1301033364812488706, 'id_str...</td>\n",
       "      <td>False</td>\n",
       "      <td>NaN</td>\n",
       "      <td>NaN</td>\n",
       "      <td>NaN</td>\n",
       "    </tr>\n",
       "    <tr>\n",
       "      <th>2020-08-31 08:09:18+00:00</th>\n",
       "      <td>1300344903562481664</td>\n",
       "      <td>1300344903562481664</td>\n",
       "      <td>Hungry? Get A$10 off your first Uber Eats orde...</td>\n",
       "      <td>False</td>\n",
       "      <td>{'hashtags': [], 'symbols': [], 'user_mentions...</td>\n",
       "      <td>&lt;a href=\"http://twitter.com/download/android\" ...</td>\n",
       "      <td>NaN</td>\n",
       "      <td>None</td>\n",
       "      <td>NaN</td>\n",
       "      <td>None</td>\n",
       "      <td>...</td>\n",
       "      <td>0</td>\n",
       "      <td>False</td>\n",
       "      <td>False</td>\n",
       "      <td>en</td>\n",
       "      <td>NaN</td>\n",
       "      <td>NaN</td>\n",
       "      <td>False</td>\n",
       "      <td>NaN</td>\n",
       "      <td>NaN</td>\n",
       "      <td>NaN</td>\n",
       "    </tr>\n",
       "  </tbody>\n",
       "</table>\n",
       "<p>5 rows × 28 columns</p>\n",
       "</div>"
      ],
      "text/plain": [
       "                                            id               id_str  \\\n",
       "created_at                                                            \n",
       "2020-09-16 01:27:11+00:00  1306041910411190272  1306041910411190272   \n",
       "2020-09-12 08:09:28+00:00  1304693596830838784  1304693596830838784   \n",
       "2020-09-04 11:35:57+00:00  1301846458316988417  1301846458316988417   \n",
       "2020-09-02 05:45:06+00:00  1301033387314933760  1301033387314933760   \n",
       "2020-08-31 08:09:18+00:00  1300344903562481664  1300344903562481664   \n",
       "\n",
       "                                                                        text  \\\n",
       "created_at                                                                     \n",
       "2020-09-16 01:27:11+00:00                                 @robelinda2 Video?   \n",
       "2020-09-12 08:09:28+00:00  I thought MU fans are most irritating and then...   \n",
       "2020-09-04 11:35:57+00:00  RT @nameshiv: OMG my brother in law, the gift ...   \n",
       "2020-09-02 05:45:06+00:00                            https://t.co/sDnK16kCAF   \n",
       "2020-08-31 08:09:18+00:00  Hungry? Get A$10 off your first Uber Eats orde...   \n",
       "\n",
       "                           truncated  \\\n",
       "created_at                             \n",
       "2020-09-16 01:27:11+00:00      False   \n",
       "2020-09-12 08:09:28+00:00      False   \n",
       "2020-09-04 11:35:57+00:00      False   \n",
       "2020-09-02 05:45:06+00:00      False   \n",
       "2020-08-31 08:09:18+00:00      False   \n",
       "\n",
       "                                                                    entities  \\\n",
       "created_at                                                                     \n",
       "2020-09-16 01:27:11+00:00  {'hashtags': [], 'symbols': [], 'user_mentions...   \n",
       "2020-09-12 08:09:28+00:00  {'hashtags': [], 'symbols': [], 'user_mentions...   \n",
       "2020-09-04 11:35:57+00:00  {'hashtags': [], 'symbols': [], 'user_mentions...   \n",
       "2020-09-02 05:45:06+00:00  {'hashtags': [], 'symbols': [], 'user_mentions...   \n",
       "2020-08-31 08:09:18+00:00  {'hashtags': [], 'symbols': [], 'user_mentions...   \n",
       "\n",
       "                                                                      source  \\\n",
       "created_at                                                                     \n",
       "2020-09-16 01:27:11+00:00  <a href=\"http://twitter.com/download/android\" ...   \n",
       "2020-09-12 08:09:28+00:00  <a href=\"http://twitter.com/download/android\" ...   \n",
       "2020-09-04 11:35:57+00:00  <a href=\"http://twitter.com/download/android\" ...   \n",
       "2020-09-02 05:45:06+00:00  <a href=\"http://twitter.com/download/android\" ...   \n",
       "2020-08-31 08:09:18+00:00  <a href=\"http://twitter.com/download/android\" ...   \n",
       "\n",
       "                           in_reply_to_status_id in_reply_to_status_id_str  \\\n",
       "created_at                                                                   \n",
       "2020-09-16 01:27:11+00:00           1.305848e+18       1305847879068561408   \n",
       "2020-09-12 08:09:28+00:00                    NaN                      None   \n",
       "2020-09-04 11:35:57+00:00                    NaN                      None   \n",
       "2020-09-02 05:45:06+00:00                    NaN                      None   \n",
       "2020-08-31 08:09:18+00:00                    NaN                      None   \n",
       "\n",
       "                           in_reply_to_user_id in_reply_to_user_id_str  ...  \\\n",
       "created_at                                                              ...   \n",
       "2020-09-16 01:27:11+00:00           35399625.0                35399625  ...   \n",
       "2020-09-12 08:09:28+00:00                  NaN                    None  ...   \n",
       "2020-09-04 11:35:57+00:00                  NaN                    None  ...   \n",
       "2020-09-02 05:45:06+00:00                  NaN                    None  ...   \n",
       "2020-08-31 08:09:18+00:00                  NaN                    None  ...   \n",
       "\n",
       "                          favorite_count favorited retweeted lang  \\\n",
       "created_at                                                          \n",
       "2020-09-16 01:27:11+00:00              0     False     False   en   \n",
       "2020-09-12 08:09:28+00:00              0     False     False   en   \n",
       "2020-09-04 11:35:57+00:00              0     False      True   en   \n",
       "2020-09-02 05:45:06+00:00              0     False     False  und   \n",
       "2020-08-31 08:09:18+00:00              0     False     False   en   \n",
       "\n",
       "                                                            retweeted_status  \\\n",
       "created_at                                                                     \n",
       "2020-09-16 01:27:11+00:00                                                NaN   \n",
       "2020-09-12 08:09:28+00:00                                                NaN   \n",
       "2020-09-04 11:35:57+00:00  {'created_at': 'Thu Sep 03 14:06:04 +0000 2020...   \n",
       "2020-09-02 05:45:06+00:00                                                NaN   \n",
       "2020-08-31 08:09:18+00:00                                                NaN   \n",
       "\n",
       "                                                           extended_entities  \\\n",
       "created_at                                                                     \n",
       "2020-09-16 01:27:11+00:00                                                NaN   \n",
       "2020-09-12 08:09:28+00:00                                                NaN   \n",
       "2020-09-04 11:35:57+00:00                                                NaN   \n",
       "2020-09-02 05:45:06+00:00  {'media': [{'id': 1301033364812488706, 'id_str...   \n",
       "2020-08-31 08:09:18+00:00                                                NaN   \n",
       "\n",
       "                           possibly_sensitive  quoted_status_id  \\\n",
       "created_at                                                        \n",
       "2020-09-16 01:27:11+00:00                 NaN               NaN   \n",
       "2020-09-12 08:09:28+00:00                 NaN               NaN   \n",
       "2020-09-04 11:35:57+00:00                 NaN               NaN   \n",
       "2020-09-02 05:45:06+00:00               False               NaN   \n",
       "2020-08-31 08:09:18+00:00               False               NaN   \n",
       "\n",
       "                           quoted_status_id_str  quoted_status  \n",
       "created_at                                                      \n",
       "2020-09-16 01:27:11+00:00                   NaN            NaN  \n",
       "2020-09-12 08:09:28+00:00                   NaN            NaN  \n",
       "2020-09-04 11:35:57+00:00                   NaN            NaN  \n",
       "2020-09-02 05:45:06+00:00                   NaN            NaN  \n",
       "2020-08-31 08:09:18+00:00                   NaN            NaN  \n",
       "\n",
       "[5 rows x 28 columns]"
      ]
     },
     "execution_count": 20,
     "metadata": {},
     "output_type": "execute_result"
    }
   ],
   "source": [
    "df.head()"
   ]
  },
  {
   "cell_type": "code",
   "execution_count": 21,
   "metadata": {},
   "outputs": [
    {
     "data": {
      "text/plain": [
       "id                             int64\n",
       "id_str                        object\n",
       "text                          object\n",
       "truncated                       bool\n",
       "entities                      object\n",
       "source                        object\n",
       "in_reply_to_status_id        float64\n",
       "in_reply_to_status_id_str     object\n",
       "in_reply_to_user_id          float64\n",
       "in_reply_to_user_id_str       object\n",
       "in_reply_to_screen_name       object\n",
       "user                          object\n",
       "geo                           object\n",
       "coordinates                   object\n",
       "place                         object\n",
       "contributors                  object\n",
       "is_quote_status                 bool\n",
       "retweet_count                  int64\n",
       "favorite_count                 int64\n",
       "favorited                       bool\n",
       "retweeted                       bool\n",
       "lang                          object\n",
       "retweeted_status              object\n",
       "extended_entities             object\n",
       "possibly_sensitive            object\n",
       "quoted_status_id             float64\n",
       "quoted_status_id_str          object\n",
       "quoted_status                 object\n",
       "dtype: object"
      ]
     },
     "execution_count": 21,
     "metadata": {},
     "output_type": "execute_result"
    }
   ],
   "source": [
    "df.dtypes"
   ]
  },
  {
   "cell_type": "code",
   "execution_count": 22,
   "metadata": {},
   "outputs": [
    {
     "data": {
      "image/png": "[encoded data removed]",
      "text/plain": [
       "<Figure size 1080x432 with 1 Axes>"
      ]
     },
     "metadata": {
      "needs_background": "light"
     },
     "output_type": "display_data"
    }
   ],
   "source": [
    "y = df['id'].resample('D').sum()\n",
    "y.plot(figsize=(15, 6));"
   ]
  },
  {
   "cell_type": "code",
   "execution_count": 23,
   "metadata": {},
   "outputs": [
    {
     "ename": "ModuleNotFoundError",
     "evalue": "No module named 'wordcloud'",
     "output_type": "error",
     "traceback": [
      "\u001b[1;31m---------------------------------------------------------------------------\u001b[0m",
      "\u001b[1;31mModuleNotFoundError\u001b[0m                       Traceback (most recent call last)",
      "\u001b[1;32m<ipython-input-23-09aeca815748>\u001b[0m in \u001b[0;36m<module>\u001b[1;34m\u001b[0m\n\u001b[1;32m----> 1\u001b[1;33m \u001b[1;32mfrom\u001b[0m \u001b[0mwordcloud\u001b[0m \u001b[1;32mimport\u001b[0m \u001b[0mWordCloud\u001b[0m\u001b[1;33m,\u001b[0m \u001b[0mSTOPWORDS\u001b[0m\u001b[1;33m\u001b[0m\u001b[1;33m\u001b[0m\u001b[0m\n\u001b[0m",
      "\u001b[1;31mModuleNotFoundError\u001b[0m: No module named 'wordcloud'"
     ]
    }
   ],
   "source": [
    "from wordcloud import WordCloud, STOPWORDS"
   ]
  },
  {
   "cell_type": "code",
   "execution_count": 24,
   "metadata": {},
   "outputs": [],
   "source": [
    "def check_tweets(twitter_handle):\n",
    "    json_str = []\n",
    "    for status in tweepy.Cursor(api.user_timeline,id=twitter_handle).items(200):\n",
    "        json_str.append(status._json)\n",
    "    \n",
    "    df = pd.DataFrame(json_str)\n",
    "    df['created_at'] = pd.to_datetime(df['created_at'])\n",
    "    df.set_index('created_at', inplace=True)\n",
    "    \n",
    "    y = df['id'].resample('D').count()\n",
    "    y.plot(figsize=(15, 6))\n",
    "    plt.show();"
   ]
  },
  {
   "cell_type": "code",
   "execution_count": 25,
   "metadata": {},
   "outputs": [],
   "source": [
    "def check_tweets_wordcloud(twitter_handle, withall=True):\n",
    "    json_str = []\n",
    "    for status in tweepy.Cursor(api.user_timeline,id=twitter_handle).items(200):\n",
    "        json_str.append(status._json)\n",
    "    \n",
    "    df = pd.DataFrame(json_str)\n",
    "    \n",
    "    if withall: \n",
    "        text = df.text.values\n",
    "    else:\n",
    "        text = ','.join([x for x in df.text.values])\n",
    "        blob = TextBlob(text)\n",
    "        text = blob.noun_phrases\n",
    "    \n",
    "    wordcloud = WordCloud(\n",
    "        width = 3000\n",
    "        , height = 2000\n",
    "        , background_color = 'black'\n",
    "        , stopwords = STOPWORDS\n",
    "    ).generate(str(text))\n",
    "    \n",
    "    fig = plt.figure(figsize = (40, 30), facecolor = 'k', edgecolor = 'k')\n",
    "    plt.imshow(wordcloud, interpolation = 'bilinear')\n",
    "    plt.axis('off')\n",
    "    plt.show();"
   ]
  },
  {
   "cell_type": "code",
   "execution_count": 26,
   "metadata": {},
   "outputs": [
    {
     "data": {
      "image/png": "[encoded data removed]",
      "text/plain": [
       "<Figure size 1080x432 with 1 Axes>"
      ]
     },
     "metadata": {
      "needs_background": "light"
     },
     "output_type": "display_data"
    }
   ],
   "source": [
    "check_tweets('realDonaldTrump')"
   ]
  },
  {
   "cell_type": "code",
   "execution_count": 27,
   "metadata": {},
   "outputs": [
    {
     "ename": "NameError",
     "evalue": "name 'TextBlob' is not defined",
     "output_type": "error",
     "traceback": [
      "\u001b[1;31m---------------------------------------------------------------------------\u001b[0m",
      "\u001b[1;31mNameError\u001b[0m                                 Traceback (most recent call last)",
      "\u001b[1;32m<ipython-input-27-74ef9b1c9041>\u001b[0m in \u001b[0;36m<module>\u001b[1;34m\u001b[0m\n\u001b[1;32m----> 1\u001b[1;33m \u001b[0mcheck_tweets_wordcloud\u001b[0m\u001b[1;33m(\u001b[0m\u001b[1;34m'realDonaldTrump'\u001b[0m\u001b[1;33m,\u001b[0m \u001b[0mwithall\u001b[0m\u001b[1;33m=\u001b[0m\u001b[1;32mFalse\u001b[0m\u001b[1;33m)\u001b[0m\u001b[1;33m\u001b[0m\u001b[1;33m\u001b[0m\u001b[0m\n\u001b[0m",
      "\u001b[1;32m<ipython-input-25-41b54f5af5e2>\u001b[0m in \u001b[0;36mcheck_tweets_wordcloud\u001b[1;34m(twitter_handle, withall)\u001b[0m\n\u001b[0;32m     10\u001b[0m     \u001b[1;32melse\u001b[0m\u001b[1;33m:\u001b[0m\u001b[1;33m\u001b[0m\u001b[1;33m\u001b[0m\u001b[0m\n\u001b[0;32m     11\u001b[0m         \u001b[0mtext\u001b[0m \u001b[1;33m=\u001b[0m \u001b[1;34m','\u001b[0m\u001b[1;33m.\u001b[0m\u001b[0mjoin\u001b[0m\u001b[1;33m(\u001b[0m\u001b[1;33m[\u001b[0m\u001b[0mx\u001b[0m \u001b[1;32mfor\u001b[0m \u001b[0mx\u001b[0m \u001b[1;32min\u001b[0m \u001b[0mdf\u001b[0m\u001b[1;33m.\u001b[0m\u001b[0mtext\u001b[0m\u001b[1;33m.\u001b[0m\u001b[0mvalues\u001b[0m\u001b[1;33m]\u001b[0m\u001b[1;33m)\u001b[0m\u001b[1;33m\u001b[0m\u001b[1;33m\u001b[0m\u001b[0m\n\u001b[1;32m---> 12\u001b[1;33m         \u001b[0mblob\u001b[0m \u001b[1;33m=\u001b[0m \u001b[0mTextBlob\u001b[0m\u001b[1;33m(\u001b[0m\u001b[0mtext\u001b[0m\u001b[1;33m)\u001b[0m\u001b[1;33m\u001b[0m\u001b[1;33m\u001b[0m\u001b[0m\n\u001b[0m\u001b[0;32m     13\u001b[0m         \u001b[0mtext\u001b[0m \u001b[1;33m=\u001b[0m \u001b[0mblob\u001b[0m\u001b[1;33m.\u001b[0m\u001b[0mnoun_phrases\u001b[0m\u001b[1;33m\u001b[0m\u001b[1;33m\u001b[0m\u001b[0m\n\u001b[0;32m     14\u001b[0m \u001b[1;33m\u001b[0m\u001b[0m\n",
      "\u001b[1;31mNameError\u001b[0m: name 'TextBlob' is not defined"
     ]
    }
   ],
   "source": [
    "check_tweets_wordcloud('realDonaldTrump', withall=False)"
   ]
  },
  {
   "cell_type": "markdown",
   "metadata": {
    "colab_type": "text",
    "id": "3PibchrmJhQ-"
   },
   "source": [
    "You can create a tweet as follows:"
   ]
  },
  {
   "cell_type": "code",
   "execution_count": null,
   "metadata": {
    "colab": {},
    "colab_type": "code",
    "id": "IwzTjf1gJhQ_"
   },
   "outputs": [],
   "source": [
    "# create a tweet:\n",
    "tweet = api.update_status('Test: Made with Tweepy')"
   ]
  },
  {
   "cell_type": "markdown",
   "metadata": {
    "colab_type": "text",
    "id": "TtlXvbjoJhRB"
   },
   "source": [
    "(Nb. Don't abuse this feature! If you try to generate a zillion tweets in a loop, Twitter will ban youur account.)"
   ]
  },
  {
   "cell_type": "markdown",
   "metadata": {
    "colab_type": "text",
    "id": "awUIiruTJhRB"
   },
   "source": [
    "Tweets can be deleted by reference to their `id_str` attribute:"
   ]
  },
  {
   "cell_type": "code",
   "execution_count": null,
   "metadata": {
    "colab": {},
    "colab_type": "code",
    "id": "tKPSCOEBJhRC"
   },
   "outputs": [],
   "source": [
    "# delete a tweet:\n",
    "status = api.destroy_status(tweet.id_str)"
   ]
  },
  {
   "cell_type": "markdown",
   "metadata": {
    "colab_type": "text",
    "id": "hEt9NWJBJhRE"
   },
   "source": [
    "You can follow a Tweeter:"
   ]
  },
  {
   "cell_type": "code",
   "execution_count": 28,
   "metadata": {
    "colab": {},
    "colab_type": "code",
    "id": "CDWxR8wOJhRF"
   },
   "outputs": [
    {
     "data": {
      "text/plain": [
       "User(_api=<tweepy.api.API object at 0x00000208B891D248>, _json={'id': 10228272, 'id_str': '10228272', 'name': 'YouTube', 'screen_name': 'YouTube', 'location': 'San Bruno, CA', 'description': 'Like and subscribe.', 'url': 'https://t.co/qkVaJFk2CG', 'entities': {'url': {'urls': [{'url': 'https://t.co/qkVaJFk2CG', 'expanded_url': 'https://www.youtube.com/', 'display_url': 'youtube.com', 'indices': [0, 23]}]}, 'description': {'urls': []}}, 'protected': False, 'followers_count': 72148756, 'friends_count': 1132, 'listed_count': 78727, 'created_at': 'Tue Nov 13 21:43:46 +0000 2007', 'favourites_count': 4347, 'utc_offset': None, 'time_zone': None, 'geo_enabled': False, 'verified': True, 'statuses_count': 27948, 'lang': None, 'status': {'created_at': 'Sat Sep 19 01:42:27 +0000 2020', 'id': 1307132916741406722, 'id_str': '1307132916741406722', 'text': '\"Fight for the things that you care about, but do it in a way that will lead others to join you.\" Today we’ve lost… https://t.co/cUxxGfKrhP', 'truncated': True, 'entities': {'hashtags': [], 'symbols': [], 'user_mentions': [], 'urls': [{'url': 'https://t.co/cUxxGfKrhP', 'expanded_url': 'https://twitter.com/i/web/status/1307132916741406722', 'display_url': 'twitter.com/i/web/status/1…', 'indices': [116, 139]}]}, 'source': '<a href=\"https://mobile.twitter.com\" rel=\"nofollow\">Twitter Web App</a>', 'in_reply_to_status_id': None, 'in_reply_to_status_id_str': None, 'in_reply_to_user_id': None, 'in_reply_to_user_id_str': None, 'in_reply_to_screen_name': None, 'geo': None, 'coordinates': None, 'place': None, 'contributors': None, 'is_quote_status': False, 'retweet_count': 101, 'favorite_count': 617, 'favorited': False, 'retweeted': False, 'possibly_sensitive': False, 'lang': 'en'}, 'contributors_enabled': False, 'is_translator': False, 'is_translation_enabled': True, 'profile_background_color': 'AF0000', 'profile_background_image_url': 'http://abs.twimg.com/images/themes/theme14/bg.gif', 'profile_background_image_url_https': 'https://abs.twimg.com/images/themes/theme14/bg.gif', 'profile_background_tile': True, 'profile_image_url': 'http://pbs.twimg.com/profile_images/1305602417044717568/Xp6h6ASK_normal.jpg', 'profile_image_url_https': 'https://pbs.twimg.com/profile_images/1305602417044717568/Xp6h6ASK_normal.jpg', 'profile_banner_url': 'https://pbs.twimg.com/profile_banners/10228272/1600114848', 'profile_link_color': 'C9191D', 'profile_sidebar_border_color': '000000', 'profile_sidebar_fill_color': 'EFEFEF', 'profile_text_color': '333333', 'profile_use_background_image': True, 'has_extended_profile': False, 'default_profile': False, 'default_profile_image': False, 'following': False, 'follow_request_sent': False, 'notifications': False, 'muting': False, 'translator_type': 'regular'}, id=10228272, id_str='10228272', name='YouTube', screen_name='YouTube', location='San Bruno, CA', description='Like and subscribe.', url='https://t.co/qkVaJFk2CG', entities={'url': {'urls': [{'url': 'https://t.co/qkVaJFk2CG', 'expanded_url': 'https://www.youtube.com/', 'display_url': 'youtube.com', 'indices': [0, 23]}]}, 'description': {'urls': []}}, protected=False, followers_count=72148756, friends_count=1132, listed_count=78727, created_at=datetime.datetime(2007, 11, 13, 21, 43, 46), favourites_count=4347, utc_offset=None, time_zone=None, geo_enabled=False, verified=True, statuses_count=27948, lang=None, status=Status(_api=<tweepy.api.API object at 0x00000208B891D248>, _json={'created_at': 'Sat Sep 19 01:42:27 +0000 2020', 'id': 1307132916741406722, 'id_str': '1307132916741406722', 'text': '\"Fight for the things that you care about, but do it in a way that will lead others to join you.\" Today we’ve lost… https://t.co/cUxxGfKrhP', 'truncated': True, 'entities': {'hashtags': [], 'symbols': [], 'user_mentions': [], 'urls': [{'url': 'https://t.co/cUxxGfKrhP', 'expanded_url': 'https://twitter.com/i/web/status/1307132916741406722', 'display_url': 'twitter.com/i/web/status/1…', 'indices': [116, 139]}]}, 'source': '<a href=\"https://mobile.twitter.com\" rel=\"nofollow\">Twitter Web App</a>', 'in_reply_to_status_id': None, 'in_reply_to_status_id_str': None, 'in_reply_to_user_id': None, 'in_reply_to_user_id_str': None, 'in_reply_to_screen_name': None, 'geo': None, 'coordinates': None, 'place': None, 'contributors': None, 'is_quote_status': False, 'retweet_count': 101, 'favorite_count': 617, 'favorited': False, 'retweeted': False, 'possibly_sensitive': False, 'lang': 'en'}, created_at=datetime.datetime(2020, 9, 19, 1, 42, 27), id=1307132916741406722, id_str='1307132916741406722', text='\"Fight for the things that you care about, but do it in a way that will lead others to join you.\" Today we’ve lost… https://t.co/cUxxGfKrhP', truncated=True, entities={'hashtags': [], 'symbols': [], 'user_mentions': [], 'urls': [{'url': 'https://t.co/cUxxGfKrhP', 'expanded_url': 'https://twitter.com/i/web/status/1307132916741406722', 'display_url': 'twitter.com/i/web/status/1…', 'indices': [116, 139]}]}, source='Twitter Web App', source_url='https://mobile.twitter.com', in_reply_to_status_id=None, in_reply_to_status_id_str=None, in_reply_to_user_id=None, in_reply_to_user_id_str=None, in_reply_to_screen_name=None, geo=None, coordinates=None, place=None, contributors=None, is_quote_status=False, retweet_count=101, favorite_count=617, favorited=False, retweeted=False, possibly_sensitive=False, lang='en'), contributors_enabled=False, is_translator=False, is_translation_enabled=True, profile_background_color='AF0000', profile_background_image_url='http://abs.twimg.com/images/themes/theme14/bg.gif', profile_background_image_url_https='https://abs.twimg.com/images/themes/theme14/bg.gif', profile_background_tile=True, profile_image_url='http://pbs.twimg.com/profile_images/1305602417044717568/Xp6h6ASK_normal.jpg', profile_image_url_https='https://pbs.twimg.com/profile_images/1305602417044717568/Xp6h6ASK_normal.jpg', profile_banner_url='https://pbs.twimg.com/profile_banners/10228272/1600114848', profile_link_color='C9191D', profile_sidebar_border_color='000000', profile_sidebar_fill_color='EFEFEF', profile_text_color='333333', profile_use_background_image=True, has_extended_profile=False, default_profile=False, default_profile_image=False, following=False, follow_request_sent=False, notifications=False, muting=False, translator_type='regular')"
      ]
     },
     "execution_count": 28,
     "metadata": {},
     "output_type": "execute_result"
    }
   ],
   "source": [
    "# follow:\n",
    "api.create_friendship('@YouTube')"
   ]
  },
  {
   "cell_type": "markdown",
   "metadata": {
    "colab_type": "text",
    "id": "Nbp2vRONJhRH"
   },
   "source": [
    "or unfollow:"
   ]
  },
  {
   "cell_type": "code",
   "execution_count": 29,
   "metadata": {
    "colab": {},
    "colab_type": "code",
    "id": "wCsNNVT9JhRH"
   },
   "outputs": [
    {
     "data": {
      "text/plain": [
       "User(_api=<tweepy.api.API object at 0x00000208B891D248>, _json={'id': 10228272, 'id_str': '10228272', 'name': 'YouTube', 'screen_name': 'YouTube', 'location': 'San Bruno, CA', 'description': 'Like and subscribe.', 'url': 'https://t.co/qkVaJFk2CG', 'entities': {'url': {'urls': [{'url': 'https://t.co/qkVaJFk2CG', 'expanded_url': 'https://www.youtube.com/', 'display_url': 'youtube.com', 'indices': [0, 23]}]}, 'description': {'urls': []}}, 'protected': False, 'followers_count': 72148756, 'friends_count': 1132, 'listed_count': 78727, 'created_at': 'Tue Nov 13 21:43:46 +0000 2007', 'favourites_count': 4347, 'utc_offset': None, 'time_zone': None, 'geo_enabled': False, 'verified': True, 'statuses_count': 27948, 'lang': None, 'status': {'created_at': 'Sat Sep 19 01:42:27 +0000 2020', 'id': 1307132916741406722, 'id_str': '1307132916741406722', 'text': '\"Fight for the things that you care about, but do it in a way that will lead others to join you.\" Today we’ve lost… https://t.co/cUxxGfKrhP', 'truncated': True, 'entities': {'hashtags': [], 'symbols': [], 'user_mentions': [], 'urls': [{'url': 'https://t.co/cUxxGfKrhP', 'expanded_url': 'https://twitter.com/i/web/status/1307132916741406722', 'display_url': 'twitter.com/i/web/status/1…', 'indices': [116, 139]}]}, 'source': '<a href=\"https://mobile.twitter.com\" rel=\"nofollow\">Twitter Web App</a>', 'in_reply_to_status_id': None, 'in_reply_to_status_id_str': None, 'in_reply_to_user_id': None, 'in_reply_to_user_id_str': None, 'in_reply_to_screen_name': None, 'geo': None, 'coordinates': None, 'place': None, 'contributors': None, 'is_quote_status': False, 'retweet_count': 101, 'favorite_count': 617, 'favorited': False, 'retweeted': False, 'possibly_sensitive': False, 'lang': 'en'}, 'contributors_enabled': False, 'is_translator': False, 'is_translation_enabled': True, 'profile_background_color': 'AF0000', 'profile_background_image_url': 'http://abs.twimg.com/images/themes/theme14/bg.gif', 'profile_background_image_url_https': 'https://abs.twimg.com/images/themes/theme14/bg.gif', 'profile_background_tile': True, 'profile_image_url': 'http://pbs.twimg.com/profile_images/1305602417044717568/Xp6h6ASK_normal.jpg', 'profile_image_url_https': 'https://pbs.twimg.com/profile_images/1305602417044717568/Xp6h6ASK_normal.jpg', 'profile_banner_url': 'https://pbs.twimg.com/profile_banners/10228272/1600114848', 'profile_link_color': 'C9191D', 'profile_sidebar_border_color': '000000', 'profile_sidebar_fill_color': 'EFEFEF', 'profile_text_color': '333333', 'profile_use_background_image': True, 'has_extended_profile': False, 'default_profile': False, 'default_profile_image': False, 'following': True, 'follow_request_sent': False, 'notifications': False, 'muting': False, 'translator_type': 'regular'}, id=10228272, id_str='10228272', name='YouTube', screen_name='YouTube', location='San Bruno, CA', description='Like and subscribe.', url='https://t.co/qkVaJFk2CG', entities={'url': {'urls': [{'url': 'https://t.co/qkVaJFk2CG', 'expanded_url': 'https://www.youtube.com/', 'display_url': 'youtube.com', 'indices': [0, 23]}]}, 'description': {'urls': []}}, protected=False, followers_count=72148756, friends_count=1132, listed_count=78727, created_at=datetime.datetime(2007, 11, 13, 21, 43, 46), favourites_count=4347, utc_offset=None, time_zone=None, geo_enabled=False, verified=True, statuses_count=27948, lang=None, status=Status(_api=<tweepy.api.API object at 0x00000208B891D248>, _json={'created_at': 'Sat Sep 19 01:42:27 +0000 2020', 'id': 1307132916741406722, 'id_str': '1307132916741406722', 'text': '\"Fight for the things that you care about, but do it in a way that will lead others to join you.\" Today we’ve lost… https://t.co/cUxxGfKrhP', 'truncated': True, 'entities': {'hashtags': [], 'symbols': [], 'user_mentions': [], 'urls': [{'url': 'https://t.co/cUxxGfKrhP', 'expanded_url': 'https://twitter.com/i/web/status/1307132916741406722', 'display_url': 'twitter.com/i/web/status/1…', 'indices': [116, 139]}]}, 'source': '<a href=\"https://mobile.twitter.com\" rel=\"nofollow\">Twitter Web App</a>', 'in_reply_to_status_id': None, 'in_reply_to_status_id_str': None, 'in_reply_to_user_id': None, 'in_reply_to_user_id_str': None, 'in_reply_to_screen_name': None, 'geo': None, 'coordinates': None, 'place': None, 'contributors': None, 'is_quote_status': False, 'retweet_count': 101, 'favorite_count': 617, 'favorited': False, 'retweeted': False, 'possibly_sensitive': False, 'lang': 'en'}, created_at=datetime.datetime(2020, 9, 19, 1, 42, 27), id=1307132916741406722, id_str='1307132916741406722', text='\"Fight for the things that you care about, but do it in a way that will lead others to join you.\" Today we’ve lost… https://t.co/cUxxGfKrhP', truncated=True, entities={'hashtags': [], 'symbols': [], 'user_mentions': [], 'urls': [{'url': 'https://t.co/cUxxGfKrhP', 'expanded_url': 'https://twitter.com/i/web/status/1307132916741406722', 'display_url': 'twitter.com/i/web/status/1…', 'indices': [116, 139]}]}, source='Twitter Web App', source_url='https://mobile.twitter.com', in_reply_to_status_id=None, in_reply_to_status_id_str=None, in_reply_to_user_id=None, in_reply_to_user_id_str=None, in_reply_to_screen_name=None, geo=None, coordinates=None, place=None, contributors=None, is_quote_status=False, retweet_count=101, favorite_count=617, favorited=False, retweeted=False, possibly_sensitive=False, lang='en'), contributors_enabled=False, is_translator=False, is_translation_enabled=True, profile_background_color='AF0000', profile_background_image_url='http://abs.twimg.com/images/themes/theme14/bg.gif', profile_background_image_url_https='https://abs.twimg.com/images/themes/theme14/bg.gif', profile_background_tile=True, profile_image_url='http://pbs.twimg.com/profile_images/1305602417044717568/Xp6h6ASK_normal.jpg', profile_image_url_https='https://pbs.twimg.com/profile_images/1305602417044717568/Xp6h6ASK_normal.jpg', profile_banner_url='https://pbs.twimg.com/profile_banners/10228272/1600114848', profile_link_color='C9191D', profile_sidebar_border_color='000000', profile_sidebar_fill_color='EFEFEF', profile_text_color='333333', profile_use_background_image=True, has_extended_profile=False, default_profile=False, default_profile_image=False, following=True, follow_request_sent=False, notifications=False, muting=False, translator_type='regular')"
      ]
     },
     "execution_count": 29,
     "metadata": {},
     "output_type": "execute_result"
    }
   ],
   "source": [
    "# unfollow:\n",
    "api.destroy_friendship('@YouTube')"
   ]
  },
  {
   "cell_type": "markdown",
   "metadata": {
    "colab_type": "text",
    "id": "YGIWBU4FJn0V"
   },
   "source": [
    ">\n",
    ">"
   ]
  },
  {
   "cell_type": "markdown",
   "metadata": {
    "colab_type": "text",
    "id": "l_IsftzjJp6w"
   },
   "source": [
    ">\n",
    ">"
   ]
  },
  {
   "cell_type": "markdown",
   "metadata": {
    "colab_type": "text",
    "id": "59l7EOATJrJO"
   },
   "source": [
    "\n",
    "\n",
    "---\n",
    "\n",
    "\n",
    "\n",
    "---\n",
    "\n",
    "\n",
    "\n",
    "> > > > > > > > > © 2019 Institute of Data\n",
    "\n",
    "\n",
    "---\n",
    "\n",
    "\n",
    "\n",
    "---\n",
    "\n",
    "\n",
    "\n"
   ]
  }
 ],
 "metadata": {
  "colab": {
   "collapsed_sections": [],
   "name": "DSIA Lab 2.2.2.ipynb",
   "provenance": []
  },
  "kernelspec": {
   "display_name": "Python 3",
   "language": "python",
   "name": "python3"
  },
  "language_info": {
   "codemirror_mode": {
    "name": "ipython",
    "version": 3
   },
   "file_extension": ".py",
   "mimetype": "text/x-python",
   "name": "python",
   "nbconvert_exporter": "python",
   "pygments_lexer": "ipython3",
   "version": "3.7.6"
  }
 },
 "nbformat": 4,
 "nbformat_minor": 1
}
